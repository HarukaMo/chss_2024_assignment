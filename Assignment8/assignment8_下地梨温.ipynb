{
 "cells": [
  {
   "attachments": {},
   "cell_type": "markdown",
   "metadata": {},
   "source": [
    "# 課題0710\n",
    "\n",
    "そのまま課題ファイルで編集しないでください。課題ファイルを複製してから課題を回答してください。"
   ]
  },
  {
   "cell_type": "code",
   "execution_count": 2,
   "metadata": {},
   "outputs": [],
   "source": [
    "import pandas as pd\n",
    "df=pd.read_csv(\"https://raw.githubusercontent.com/lvzeyu/css_tohoku/master/css_tohoku/draft/Data/titanic.csv\")"
   ]
  },
  {
   "attachments": {},
   "cell_type": "markdown",
   "metadata": {},
   "source": [
    "## 課題1\n",
    "\n",
    "以下の図を再現してください\n",
    "\n",
    "- 年齢の分布を、異なる階級幅を使って、4つのサブプロットをわけて描画する\n",
    "   - 階級幅を適当で決めてよい\n",
    "- 各サブプロットには、\n",
    "    - x軸ラベル、y軸ラベル、サブプロット番号(a-d)を指定する\n",
    "    - 水平方向のグリッド線を追加する\n",
    "    - ヒストグラムの色を`lightblue`に変更する"
   ]
  },
  {
   "cell_type": "markdown",
   "metadata": {},
   "source": [
    "![](./Figure1.png)"
   ]
  },
  {
   "cell_type": "code",
   "execution_count": null,
   "metadata": {},
   "outputs": [],
   "source": [
    "!pip install scienceplots\n",
    "\n",
    "import matplotlib.pyplot as plt\n",
    "import scienceplots\n",
    "\n",
    "plt.style.use(['science','no-latex'])\n",
    "\n",
    "import matplotlib.font_manager as fm\n",
    "!apt-get -y install fonts-ipafont-gothic\n",
    "\n",
    "import matplotlib.font_manager as fm\n",
    "\n",
    "!fc-list :lang=ja\n",
    "\n",
    "font_path = '/usr/share/fonts/opentype/ipafont-gothic/ipag.ttf'\n",
    "font_prop = fm.FontProperties(fname=font_path)\n",
    "plt.rcParams['font.family'] = font_prop.get_name()"
   ]
  },
  {
   "cell_type": "code",
   "execution_count": null,
   "metadata": {},
   "outputs": [],
   "source": [
    "fig, axes = plt.subplots(2, 2, figsize=(16, 8))\n",
    "\n",
    "bins_list=[5,10,15,20]\n",
    "\n",
    "axes[0,0].hist(df['age'].dropna(),bins=bins_list[0],color='lightblue',rwidth=0.8)\n",
    "axes[0,0].set_xlabel('年齢(歳)',fontproperties=font_prop,fontsize=14)\n",
    "axes[0,0].set_ylabel('人数',fontproperties=font_prop,fontsize=14)\n",
    "axes[0,0].set_title('a',fontproperties=font_prop,fontsize=14,loc='left')\n",
    "axes[0,0].grid(axis='y')\n",
    "\n",
    "axes[0, 1].hist(df['age'].dropna(), bins=bins_list[1], color='lightblue',rwidth=0.8)\n",
    "axes[0, 1].set_xlabel('年齢(歳)',fontproperties=font_prop,fontsize=14)\n",
    "axes[0, 1].set_ylabel('人数',fontproperties=font_prop,fontsize=14)\n",
    "axes[0, 1].set_title('b',fontproperties=font_prop,fontsize=14,loc='left')\n",
    "axes[0, 1].grid(axis='y')\n",
    "\n",
    "axes[1, 0].hist(df['age'].dropna(), bins=bins_list[2], color='lightblue',rwidth=0.8)\n",
    "axes[1, 0].set_xlabel('年齢(歳)',fontproperties=font_prop,fontsize=14)\n",
    "axes[1, 0].set_ylabel('人数',fontproperties=font_prop,fontsize=14)\n",
    "axes[1, 0].set_title('c',fontproperties=font_prop,fontsize=14,loc='left')\n",
    "axes[1, 0].grid(axis='y')\n",
    "\n",
    "axes[1, 1].hist(df['age'].dropna(), bins=bins_list[3], color='lightblue',rwidth=0.8)\n",
    "axes[1, 1].set_xlabel('年齢(歳)',fontproperties=font_prop,fontsize=14)\n",
    "axes[1, 1].set_ylabel('人数',fontproperties=font_prop,fontsize=14)\n",
    "axes[1, 1].set_title('d',fontproperties=font_prop,fontsize=14,loc='left')\n",
    "axes[1, 1].grid(axis='y')\n",
    "\n",
    "\n",
    "plt.show()"
   ]
  },
  {
   "attachments": {},
   "cell_type": "markdown",
   "metadata": {},
   "source": [
    "## 課題2\n",
    "\n",
    "以下の図を再現してください\n",
    "\n",
    "- 男性乗客と女性乗客の年齢の分布をそれぞれ描画する\n",
    "- 全乗客の年齢分布を示す灰色ヒストグラムも描画する\n",
    "- 図のタイトル、x軸ラベル、y軸ラベル、凡例を設定する"
   ]
  },
  {
   "cell_type": "markdown",
   "metadata": {},
   "source": [
    "![](./Figure2.png)"
   ]
  },
  {
   "cell_type": "code",
   "execution_count": null,
   "metadata": {},
   "outputs": [],
   "source": [
    "import pandas as pd\n",
    "import matplotlib.pyplot as plt\n",
    "\n",
    "df = pd.read_csv(\"https://raw.githubusercontent.com/lvzeyu/css_tohoku/master/css_tohoku/draft/Data/titanic.csv\")\n",
    "\n",
    "df = df.dropna(subset=['age'])\n",
    "\n",
    "male_ages = df[df['sex'] == 'male']['age']\n",
    "female_ages = df[df['sex'] == 'female']['age']\n",
    "all_ages = df['age']\n",
    "\n",
    "fig, axes = plt.subplots(1, 2, figsize=(14, 6))\n",
    "\n",
    "axes[0].hist(all_ages, bins=40, color='gray', alpha=0.5, label='すべての乗客')\n",
    "axes[0].hist(male_ages, bins=40, color='blue', alpha=0.7, label='男性乗客')\n",
    "axes[0].set_title('男性乗客', fontproperties=font_prop,fontsize=14)\n",
    "axes[0].set_xlabel('乗客の年齢(歳)', fontproperties=font_prop,fontsize=14)\n",
    "axes[0].set_ylabel('人数', fontproperties=font_prop,fontsize=14)\n",
    "axes[0].grid(axis='y')\n",
    "axes[0].legend(prop=font_prop,fontsize=14)\n",
    "\n",
    "axes[1].hist(all_ages, bins=40, color='gray', alpha=0.5, label='すべての乗客')\n",
    "axes[1].hist(female_ages, bins=40, color='red', alpha=0.7, label='女性乗客')\n",
    "axes[1].set_title('女性乗客', fontproperties=font_prop,fontsize=14)\n",
    "axes[1].set_xlabel('乗客の年齢(歳)', fontproperties=font_prop,fontsize=14)\n",
    "axes[1].set_ylabel('人数', fontproperties=font_prop,fontsize=14)\n",
    "axes[1].grid(axis='y')\n",
    "axes[1].legend(prop=font_prop,fontsize=14)\n",
    "\n",
    "plt.tight_layout()\n",
    "plt.show()"
   ]
  }
 ],
 "metadata": {
  "kernelspec": {
   "display_name": "base",
   "language": "python",
   "name": "python3"
  },
  "language_info": {
   "codemirror_mode": {
    "name": "ipython",
    "version": 3
   },
   "file_extension": ".py",
   "mimetype": "text/x-python",
   "name": "python",
   "nbconvert_exporter": "python",
   "pygments_lexer": "ipython3",
   "version": "3.12.1"
  },
  "orig_nbformat": 4
 },
 "nbformat": 4,
 "nbformat_minor": 2
}
